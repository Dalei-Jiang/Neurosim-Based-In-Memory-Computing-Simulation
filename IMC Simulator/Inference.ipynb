{
 "cells": [
  {
   "cell_type": "code",
   "execution_count": 6,
   "id": "efb33e83",
   "metadata": {},
   "outputs": [],
   "source": [
    "import os\n",
    "import torch\n",
    "from sklearn.metrics import confusion_matrix, accuracy_score\n",
    "from torchvision import datasets, transforms\n",
    "from torch.utils.data import DataLoader, Dataset\n",
    "import matplotlib.pyplot as plt\n",
    "import numpy as np\n",
    "import seaborn as sns\n",
    "\n",
    "class CustomDataset(Dataset):\n",
    "    def __init__(self, images, labels):\n",
    "        self.images = images\n",
    "        self.labels = labels\n",
    "\n",
    "    def __len__(self):\n",
    "        return len(self.images)\n",
    "\n",
    "    def __getitem__(self, idx):\n",
    "        image = self.images[idx]\n",
    "        label = self.labels[idx]\n",
    "        return torch.tensor(image, dtype=torch.float32), torch.tensor(label, dtype=int)"
   ]
  },
  {
   "cell_type": "code",
   "execution_count": 11,
   "id": "cb747774",
   "metadata": {},
   "outputs": [],
   "source": [
    "dataset_type = 'GaN'\n",
    "Xname = 'X_GaNmul3_VSHS'\n",
    "yname = 'y_GaN_new'\n",
    "model_name = 'GaN-VSHS-L-K2S3-[480-480-480-R-9]-88-9697-2024_09_13_15_42_19.pth'"
   ]
  },
  {
   "cell_type": "code",
   "execution_count": 12,
   "id": "69c8bb9b",
   "metadata": {},
   "outputs": [],
   "source": [
    "dir_path = './model/analyze'\n",
    "model_path = os.path.join(dir_path, model_name)\n",
    "model = torch.load(model_path).cuda()\n",
    "model.eval()\n",
    "images = np.load(f\"./resource/{Xname}.npy\")\n",
    "labels = np.load(f\"./resource/{yname}.npy\")\n",
    "sample_number = images.shape[0]\n",
    "ratio = 0.8\n",
    "images_train = images[:int(sample_number*ratio)]\n",
    "images_test = images[int(sample_number*ratio):]\n",
    "labels_train = labels[:int(sample_number*ratio)]\n",
    "labels_test = labels[int(sample_number*ratio):]\n",
    "dataset_train = CustomDataset(images_train, labels_train)\n",
    "dataset_test = CustomDataset(images_test, labels_test)\n",
    "test_loader = DataLoader(dataset_test, batch_size=100, shuffle=False, num_workers=0)"
   ]
  },
  {
   "cell_type": "code",
   "execution_count": 13,
   "id": "626001b0",
   "metadata": {},
   "outputs": [],
   "source": [
    "all_preds = []\n",
    "all_targets = []\n",
    "with torch.no_grad():\n",
    "    for inputs, labels in test_loader:\n",
    "        inputs = inputs.cuda()\n",
    "        outputs = model(inputs)\n",
    "        _, preds = torch.max(outputs, 1)\n",
    "        all_preds.extend(preds.cpu().numpy())\n",
    "        all_targets.extend(labels.cpu().numpy())"
   ]
  },
  {
   "cell_type": "code",
   "execution_count": 23,
   "id": "d8c666c9",
   "metadata": {},
   "outputs": [
    {
     "name": "stdout",
     "output_type": "stream",
     "text": [
      "Accuracy: 96.98%\n"
     ]
    },
    {
     "data": {
      "image/png": "[encoded data removed]",
      "text/plain": [
       "<Figure size 800x600 with 2 Axes>"
      ]
     },
     "metadata": {},
     "output_type": "display_data"
    }
   ],
   "source": [
    "all_preds = []\n",
    "all_targets = []\n",
    "with torch.no_grad():\n",
    "    for inputs, labels in test_loader:\n",
    "        inputs = inputs.cuda()\n",
    "        outputs = model(inputs)\n",
    "        _, preds = torch.max(outputs, 1)\n",
    "        all_preds.extend(preds.cpu().numpy())\n",
    "        all_targets.extend(labels.cpu().numpy())\n",
    "        \n",
    "accuracy = accuracy_score(all_targets, all_preds)\n",
    "print(f'Accuracy: {accuracy * 100:.2f}%')\n",
    "conf_matrix = confusion_matrix(all_targets, all_preds)\n",
    "conf_matrix = conf_matrix.astype('float') / conf_matrix.sum(axis=1)[:, np.newaxis] * 100\n",
    "# 创建一个热图来展示混淆矩阵\n",
    "plt.figure(figsize=(8, 6))\n",
    "sns.heatmap(conf_matrix,cmap='Reds')\n",
    "plt.title(f'Confusion Matrix for {dataset_type} dataset')\n",
    "plt.ylabel('True Label')\n",
    "plt.xlabel('Predicted Label')\n",
    "plt.show()"
   ]
  },
  {
   "cell_type": "code",
   "execution_count": 19,
   "id": "4c089828",
   "metadata": {},
   "outputs": [
    {
     "data": {
      "text/plain": [
       "tensor([1, 1, 7, 1, 0, 0, 7, 1, 5, 8, 0, 1, 7, 3, 3, 3, 7, 3, 3, 7, 5, 7, 3, 7,\n",
       "        1, 3, 1, 5, 0, 8, 5, 0, 5, 0, 7, 1, 0, 0, 5, 1, 0, 3, 0, 8, 5, 5, 0, 5,\n",
       "        5, 7, 1, 7, 0, 1])"
      ]
     },
     "execution_count": 19,
     "metadata": {},
     "output_type": "execute_result"
    }
   ],
   "source": [
    "labels"
   ]
  },
  {
   "cell_type": "code",
   "execution_count": 22,
   "id": "177ecec9",
   "metadata": {},
   "outputs": [
    {
     "data": {
      "text/plain": [
       "array([[539,   4,   0,   0,   0,   0,   0,   0,   0],\n",
       "       [  2, 302,   0,   0,   0,   0,   0,   0,   0],\n",
       "       [  1,   0,   2,   1,   0,   0,   1,   1,   0],\n",
       "       [  0,   1,   0, 407,   0,   1,   0,   0,   0],\n",
       "       [  0,   0,   0,   4,   0,   0,   1,   6,   0],\n",
       "       [  6,   3,   0,   4,   0, 256,   0,   8,   0],\n",
       "       [  0,   0,   0,   0,   0,   0,   7,   0,   0],\n",
       "       [  0,   0,   0,   0,   0,   0,   0, 179,   0],\n",
       "       [  1,   6,   0,   2,   0,   2,   0,   1, 106]], dtype=int64)"
      ]
     },
     "execution_count": 22,
     "metadata": {},
     "output_type": "execute_result"
    }
   ],
   "source": [
    "conf_matrix"
   ]
  },
  {
   "cell_type": "code",
   "execution_count": 24,
   "id": "2845b0ac",
   "metadata": {},
   "outputs": [
    {
     "data": {
      "text/plain": [
       "{tensor(0),\n",
       " tensor(0),\n",
       " tensor(0),\n",
       " tensor(0),\n",
       " tensor(0),\n",
       " tensor(0),\n",
       " tensor(0),\n",
       " tensor(0),\n",
       " tensor(0),\n",
       " tensor(0),\n",
       " tensor(0),\n",
       " tensor(0),\n",
       " tensor(1),\n",
       " tensor(1),\n",
       " tensor(1),\n",
       " tensor(1),\n",
       " tensor(1),\n",
       " tensor(1),\n",
       " tensor(1),\n",
       " tensor(1),\n",
       " tensor(1),\n",
       " tensor(1),\n",
       " tensor(1),\n",
       " tensor(3),\n",
       " tensor(3),\n",
       " tensor(3),\n",
       " tensor(3),\n",
       " tensor(3),\n",
       " tensor(3),\n",
       " tensor(3),\n",
       " tensor(3),\n",
       " tensor(5),\n",
       " tensor(5),\n",
       " tensor(5),\n",
       " tensor(5),\n",
       " tensor(5),\n",
       " tensor(5),\n",
       " tensor(5),\n",
       " tensor(5),\n",
       " tensor(5),\n",
       " tensor(5),\n",
       " tensor(7),\n",
       " tensor(7),\n",
       " tensor(7),\n",
       " tensor(7),\n",
       " tensor(7),\n",
       " tensor(7),\n",
       " tensor(7),\n",
       " tensor(7),\n",
       " tensor(7),\n",
       " tensor(7),\n",
       " tensor(8),\n",
       " tensor(8),\n",
       " tensor(8)}"
      ]
     },
     "execution_count": 24,
     "metadata": {},
     "output_type": "execute_result"
    }
   ],
   "source": []
  },
  {
   "cell_type": "code",
   "execution_count": 25,
   "id": "76316a82",
   "metadata": {},
   "outputs": [],
   "source": [
    "L =  np.load(f\"./resource/{yname}.npy\")"
   ]
  },
  {
   "cell_type": "code",
   "execution_count": 27,
   "id": "20b2101d",
   "metadata": {},
   "outputs": [
    {
     "data": {
      "text/plain": [
       "{0, 1, 2, 3, 4, 5, 6, 7, 8}"
      ]
     },
     "execution_count": 27,
     "metadata": {},
     "output_type": "execute_result"
    }
   ],
   "source": [
    "set(L)"
   ]
  },
  {
   "cell_type": "code",
   "execution_count": null,
   "id": "a00a8284",
   "metadata": {},
   "outputs": [],
   "source": []
  }
 ],
 "metadata": {
  "kernelspec": {
   "display_name": "Python 3 (ipykernel)",
   "language": "python",
   "name": "python3"
  },
  "language_info": {
   "codemirror_mode": {
    "name": "ipython",
    "version": 3
   },
   "file_extension": ".py",
   "mimetype": "text/x-python",
   "name": "python",
   "nbconvert_exporter": "python",
   "pygments_lexer": "ipython3",
   "version": "3.11.7"
  }
 },
 "nbformat": 4,
 "nbformat_minor": 5
}
